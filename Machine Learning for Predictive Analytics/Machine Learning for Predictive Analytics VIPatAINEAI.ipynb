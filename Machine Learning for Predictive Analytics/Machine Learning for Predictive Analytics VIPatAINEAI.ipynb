{
 "cells": [
  {
   "cell_type": "markdown",
   "metadata": {
    "id": "WWbqxNLZlFII"
   },
   "source": [
    "# Machine Learning for Predictive Analytics\n",
    "\n",
    "### About\n",
    "\n",
    "##### The project relates to applying predictive analytics on customer churn. A major telecom company’s postpaid business of voice-only plans is struggling to maintain its strong foothold in local market because of:\n",
    "##### - High churn rate amongst customers leading to a revenue decline of ~500k USD every month\n",
    "##### - Decline in overall customer base (high churn rate combined with low acquisition rate), leading to a decline in total market share\n",
    "\n",
    "\n",
    "### Objectives/Exercise:\n",
    "##### 1. Perform initial data preparation\n",
    "##### 1. a Number of customers with zero monthly revenue?\n",
    "##### 1. b Number of customers with missing values percentage > 5%?\n",
    "##### 1. c Remove outliers for columns ‘UniqueSubs’ and ‘DirectorAssistedCalls’ is any.\n",
    "##### 2. Perform exploratory analysis to analyse customer churn\n",
    "##### 2. a Do customers with high overage minutes also have high revenue?\n",
    "##### 2. b Does high number of active subscribers lead to low monthly revenue?\n",
    "##### 2. c Does credit rating have an impact on churn rate?\n",
    "##### 3. Create additional features to help predict churn\n",
    "##### 3. a Percent of current active subs over total subs\n",
    "##### 3. b Percent of recurrent charge to monthly charge\n",
    "##### 3. c Percent of overage minutes over total monthly minutes\n",
    "##### 4. Build classification model to predict customer churn\n",
    "##### 4. a Build a simple logistic regression model to predict churn and evaluate model accuracy on test data set\n",
    "##### 4. b Build Random Forest classifier to compare model accuracy over the logistic regression model\n",
    "##### 4. c Identify most important features impacting churn (Model evaluation metrics to be used: GINI, AUC, Precision and Recall)\n",
    "##### 5. Use the ‘Prediction Data’ provided to predict churners using the best model identified in step 4\n",
    "##### 6. Calculate lift chart and total monthly revenue saved by targeting top 10-20% of the customers using your best predictive model\n"
   ]
  },
  {
   "cell_type": "markdown",
   "metadata": {
    "id": "RCrmVhYDlFIJ"
   },
   "source": [
    "## Packages and setup"
   ]
  },
  {
   "cell_type": "code",
   "execution_count": 1,
   "metadata": {
    "id": "duCWbBPRlFIK"
   },
   "outputs": [],
   "source": [
    "# Importing the necessary modules \n",
    "import numpy as np\n",
    "import pandas as pd \n",
    "import seaborn as sns\n",
    "import matplotlib.pyplot as plt\n",
    "import os\n",
    "\n",
    "from scipy.stats import shapiro\n",
    "import scipy.stats as stats\n",
    "\n",
    "#parameter settings\n",
    "from IPython.core.interactiveshell import InteractiveShell\n",
    "InteractiveShell.ast_node_interactivity = \"all\"\n",
    "import warnings\n",
    "warnings.filterwarnings(\"ignore\")\n",
    "warnings.simplefilter(action='ignore', category=FutureWarning)"
   ]
  },
  {
   "cell_type": "markdown",
   "metadata": {
    "id": "VoDtZpyJlFIK"
   },
   "source": [
    "## Reading data and initial processing"
   ]
  },
  {
   "cell_type": "code",
   "execution_count": 2,
   "metadata": {
    "id": "br8Y20g5lFIL"
   },
   "outputs": [],
   "source": [
    "# Reading the data\n",
    "cust_df=pd.read_csv(\"C:/Users/preet/Desktop/Virtual Internships/VIP AINE AI/Machine Learning for Predictive Analytics/Telecom Data.csv\")"
   ]
  },
  {
   "cell_type": "markdown",
   "metadata": {
    "id": "arTuXCYclFIL"
   },
   "source": [
    "## Exercise"
   ]
  },
  {
   "cell_type": "markdown",
   "metadata": {
    "id": "46n6OhqOlFIN"
   },
   "source": [
    "## Placeholder for your analysis"
   ]
  },
  {
   "cell_type": "code",
   "execution_count": 3,
   "metadata": {
    "id": "xDu2UNTvlFIO"
   },
   "outputs": [
    {
     "data": {
      "text/plain": [
       "(51047, 58)"
      ]
     },
     "execution_count": 3,
     "metadata": {},
     "output_type": "execute_result"
    }
   ],
   "source": [
    "# Type your code here to explore and understand the data better\n",
    "\n",
    "#e.g., identify the dimension of cust_df\n",
    "cust_df.shape"
   ]
  },
  {
   "cell_type": "markdown",
   "metadata": {},
   "source": [
    "We can observe that the dataset has 51,047 rows and 58 columns"
   ]
  },
  {
   "cell_type": "code",
   "execution_count": 4,
   "metadata": {},
   "outputs": [
    {
     "data": {
      "text/plain": [
       "Index(['CustomerID', 'Churn', 'MonthlyRevenue', 'MonthlyMinutes',\n",
       "       'TotalRecurringCharge', 'DirectorAssistedCalls', 'OverageMinutes',\n",
       "       'RoamingCalls', 'PercChangeMinutes', 'PercChangeRevenues',\n",
       "       'DroppedCalls', 'BlockedCalls', 'UnansweredCalls', 'CustomerCareCalls',\n",
       "       'ThreewayCalls', 'ReceivedCalls', 'OutboundCalls', 'InboundCalls',\n",
       "       'PeakCallsInOut', 'OffPeakCallsInOut', 'DroppedBlockedCalls',\n",
       "       'CallForwardingCalls', 'CallWaitingCalls', 'MonthsInService',\n",
       "       'UniqueSubs', 'ActiveSubs', 'ServiceArea', 'Handsets', 'HandsetModels',\n",
       "       'CurrentEquipmentDays', 'AgeHH1', 'AgeHH2', 'ChildrenInHH',\n",
       "       'HandsetRefurbished', 'HandsetWebCapable', 'TruckOwner', 'RVOwner',\n",
       "       'Homeownership', 'BuysViaMailOrder', 'RespondsToMailOffers',\n",
       "       'OptOutMailings', 'NonUSTravel', 'OwnsComputer', 'HasCreditCard',\n",
       "       'RetentionCalls', 'RetentionOffersAccepted', 'NewCellphoneUser',\n",
       "       'NotNewCellphoneUser', 'ReferralsMadeBySubscriber', 'IncomeGroup',\n",
       "       'OwnsMotorcycle', 'AdjustmentsToCreditRating', 'HandsetPrice',\n",
       "       'MadeCallToRetentionTeam', 'CreditRating', 'PrizmCode', 'Occupation',\n",
       "       'MaritalStatus'],\n",
       "      dtype='object')"
      ]
     },
     "execution_count": 4,
     "metadata": {},
     "output_type": "execute_result"
    }
   ],
   "source": [
    "# Displaying the names of each column in the dataset\n",
    "cust_df.columns"
   ]
  },
  {
   "cell_type": "code",
   "execution_count": 5,
   "metadata": {},
   "outputs": [
    {
     "data": {
      "text/html": [
       "<div>\n",
       "<style scoped>\n",
       "    .dataframe tbody tr th:only-of-type {\n",
       "        vertical-align: middle;\n",
       "    }\n",
       "\n",
       "    .dataframe tbody tr th {\n",
       "        vertical-align: top;\n",
       "    }\n",
       "\n",
       "    .dataframe thead th {\n",
       "        text-align: right;\n",
       "    }\n",
       "</style>\n",
       "<table border=\"1\" class=\"dataframe\">\n",
       "  <thead>\n",
       "    <tr style=\"text-align: right;\">\n",
       "      <th></th>\n",
       "      <th>CustomerID</th>\n",
       "      <th>Churn</th>\n",
       "      <th>MonthlyRevenue</th>\n",
       "      <th>MonthlyMinutes</th>\n",
       "      <th>TotalRecurringCharge</th>\n",
       "      <th>DirectorAssistedCalls</th>\n",
       "      <th>OverageMinutes</th>\n",
       "      <th>RoamingCalls</th>\n",
       "      <th>PercChangeMinutes</th>\n",
       "      <th>PercChangeRevenues</th>\n",
       "      <th>...</th>\n",
       "      <th>ReferralsMadeBySubscriber</th>\n",
       "      <th>IncomeGroup</th>\n",
       "      <th>OwnsMotorcycle</th>\n",
       "      <th>AdjustmentsToCreditRating</th>\n",
       "      <th>HandsetPrice</th>\n",
       "      <th>MadeCallToRetentionTeam</th>\n",
       "      <th>CreditRating</th>\n",
       "      <th>PrizmCode</th>\n",
       "      <th>Occupation</th>\n",
       "      <th>MaritalStatus</th>\n",
       "    </tr>\n",
       "  </thead>\n",
       "  <tbody>\n",
       "    <tr>\n",
       "      <th>0</th>\n",
       "      <td>3000002</td>\n",
       "      <td>Yes</td>\n",
       "      <td>24.00</td>\n",
       "      <td>219.0</td>\n",
       "      <td>22.0</td>\n",
       "      <td>0.25</td>\n",
       "      <td>0.0</td>\n",
       "      <td>0.0</td>\n",
       "      <td>-157.0</td>\n",
       "      <td>-19.0</td>\n",
       "      <td>...</td>\n",
       "      <td>0</td>\n",
       "      <td>4</td>\n",
       "      <td>No</td>\n",
       "      <td>0</td>\n",
       "      <td>30</td>\n",
       "      <td>Yes</td>\n",
       "      <td>1-Highest</td>\n",
       "      <td>Suburban</td>\n",
       "      <td>Professional</td>\n",
       "      <td>No</td>\n",
       "    </tr>\n",
       "    <tr>\n",
       "      <th>1</th>\n",
       "      <td>3000010</td>\n",
       "      <td>Yes</td>\n",
       "      <td>16.99</td>\n",
       "      <td>10.0</td>\n",
       "      <td>17.0</td>\n",
       "      <td>0.00</td>\n",
       "      <td>0.0</td>\n",
       "      <td>0.0</td>\n",
       "      <td>-4.0</td>\n",
       "      <td>0.0</td>\n",
       "      <td>...</td>\n",
       "      <td>0</td>\n",
       "      <td>5</td>\n",
       "      <td>No</td>\n",
       "      <td>0</td>\n",
       "      <td>30</td>\n",
       "      <td>No</td>\n",
       "      <td>4-Medium</td>\n",
       "      <td>Suburban</td>\n",
       "      <td>Professional</td>\n",
       "      <td>Yes</td>\n",
       "    </tr>\n",
       "    <tr>\n",
       "      <th>2</th>\n",
       "      <td>3000014</td>\n",
       "      <td>No</td>\n",
       "      <td>38.00</td>\n",
       "      <td>8.0</td>\n",
       "      <td>38.0</td>\n",
       "      <td>0.00</td>\n",
       "      <td>0.0</td>\n",
       "      <td>0.0</td>\n",
       "      <td>-2.0</td>\n",
       "      <td>0.0</td>\n",
       "      <td>...</td>\n",
       "      <td>0</td>\n",
       "      <td>6</td>\n",
       "      <td>No</td>\n",
       "      <td>0</td>\n",
       "      <td>Unknown</td>\n",
       "      <td>No</td>\n",
       "      <td>3-Good</td>\n",
       "      <td>Town</td>\n",
       "      <td>Crafts</td>\n",
       "      <td>Yes</td>\n",
       "    </tr>\n",
       "    <tr>\n",
       "      <th>3</th>\n",
       "      <td>3000022</td>\n",
       "      <td>No</td>\n",
       "      <td>82.28</td>\n",
       "      <td>1312.0</td>\n",
       "      <td>75.0</td>\n",
       "      <td>1.24</td>\n",
       "      <td>0.0</td>\n",
       "      <td>0.0</td>\n",
       "      <td>157.0</td>\n",
       "      <td>8.1</td>\n",
       "      <td>...</td>\n",
       "      <td>0</td>\n",
       "      <td>6</td>\n",
       "      <td>No</td>\n",
       "      <td>0</td>\n",
       "      <td>10</td>\n",
       "      <td>No</td>\n",
       "      <td>4-Medium</td>\n",
       "      <td>Other</td>\n",
       "      <td>Other</td>\n",
       "      <td>No</td>\n",
       "    </tr>\n",
       "    <tr>\n",
       "      <th>4</th>\n",
       "      <td>3000026</td>\n",
       "      <td>Yes</td>\n",
       "      <td>17.14</td>\n",
       "      <td>0.0</td>\n",
       "      <td>17.0</td>\n",
       "      <td>0.00</td>\n",
       "      <td>0.0</td>\n",
       "      <td>0.0</td>\n",
       "      <td>0.0</td>\n",
       "      <td>-0.2</td>\n",
       "      <td>...</td>\n",
       "      <td>0</td>\n",
       "      <td>9</td>\n",
       "      <td>No</td>\n",
       "      <td>1</td>\n",
       "      <td>10</td>\n",
       "      <td>No</td>\n",
       "      <td>1-Highest</td>\n",
       "      <td>Other</td>\n",
       "      <td>Professional</td>\n",
       "      <td>Yes</td>\n",
       "    </tr>\n",
       "  </tbody>\n",
       "</table>\n",
       "<p>5 rows × 58 columns</p>\n",
       "</div>"
      ],
      "text/plain": [
       "   CustomerID Churn  MonthlyRevenue  MonthlyMinutes  TotalRecurringCharge  \\\n",
       "0     3000002   Yes           24.00           219.0                  22.0   \n",
       "1     3000010   Yes           16.99            10.0                  17.0   \n",
       "2     3000014    No           38.00             8.0                  38.0   \n",
       "3     3000022    No           82.28          1312.0                  75.0   \n",
       "4     3000026   Yes           17.14             0.0                  17.0   \n",
       "\n",
       "   DirectorAssistedCalls  OverageMinutes  RoamingCalls  PercChangeMinutes  \\\n",
       "0                   0.25             0.0           0.0             -157.0   \n",
       "1                   0.00             0.0           0.0               -4.0   \n",
       "2                   0.00             0.0           0.0               -2.0   \n",
       "3                   1.24             0.0           0.0              157.0   \n",
       "4                   0.00             0.0           0.0                0.0   \n",
       "\n",
       "   PercChangeRevenues  ...  ReferralsMadeBySubscriber  IncomeGroup  \\\n",
       "0               -19.0  ...                          0            4   \n",
       "1                 0.0  ...                          0            5   \n",
       "2                 0.0  ...                          0            6   \n",
       "3                 8.1  ...                          0            6   \n",
       "4                -0.2  ...                          0            9   \n",
       "\n",
       "   OwnsMotorcycle  AdjustmentsToCreditRating  HandsetPrice  \\\n",
       "0              No                          0            30   \n",
       "1              No                          0            30   \n",
       "2              No                          0       Unknown   \n",
       "3              No                          0            10   \n",
       "4              No                          1            10   \n",
       "\n",
       "   MadeCallToRetentionTeam  CreditRating  PrizmCode    Occupation  \\\n",
       "0                      Yes     1-Highest   Suburban  Professional   \n",
       "1                       No      4-Medium   Suburban  Professional   \n",
       "2                       No        3-Good       Town        Crafts   \n",
       "3                       No      4-Medium      Other         Other   \n",
       "4                       No     1-Highest      Other  Professional   \n",
       "\n",
       "   MaritalStatus  \n",
       "0             No  \n",
       "1            Yes  \n",
       "2            Yes  \n",
       "3             No  \n",
       "4            Yes  \n",
       "\n",
       "[5 rows x 58 columns]"
      ]
     },
     "execution_count": 5,
     "metadata": {},
     "output_type": "execute_result"
    }
   ],
   "source": [
    "# First 5 rows of the dataset\n",
    "cust_df.head()"
   ]
  },
  {
   "cell_type": "code",
   "execution_count": 6,
   "metadata": {},
   "outputs": [
    {
     "data": {
      "text/html": [
       "<div>\n",
       "<style scoped>\n",
       "    .dataframe tbody tr th:only-of-type {\n",
       "        vertical-align: middle;\n",
       "    }\n",
       "\n",
       "    .dataframe tbody tr th {\n",
       "        vertical-align: top;\n",
       "    }\n",
       "\n",
       "    .dataframe thead th {\n",
       "        text-align: right;\n",
       "    }\n",
       "</style>\n",
       "<table border=\"1\" class=\"dataframe\">\n",
       "  <thead>\n",
       "    <tr style=\"text-align: right;\">\n",
       "      <th></th>\n",
       "      <th>CustomerID</th>\n",
       "      <th>Churn</th>\n",
       "      <th>MonthlyRevenue</th>\n",
       "      <th>MonthlyMinutes</th>\n",
       "      <th>TotalRecurringCharge</th>\n",
       "      <th>DirectorAssistedCalls</th>\n",
       "      <th>OverageMinutes</th>\n",
       "      <th>RoamingCalls</th>\n",
       "      <th>PercChangeMinutes</th>\n",
       "      <th>PercChangeRevenues</th>\n",
       "      <th>...</th>\n",
       "      <th>ReferralsMadeBySubscriber</th>\n",
       "      <th>IncomeGroup</th>\n",
       "      <th>OwnsMotorcycle</th>\n",
       "      <th>AdjustmentsToCreditRating</th>\n",
       "      <th>HandsetPrice</th>\n",
       "      <th>MadeCallToRetentionTeam</th>\n",
       "      <th>CreditRating</th>\n",
       "      <th>PrizmCode</th>\n",
       "      <th>Occupation</th>\n",
       "      <th>MaritalStatus</th>\n",
       "    </tr>\n",
       "  </thead>\n",
       "  <tbody>\n",
       "    <tr>\n",
       "      <th>51042</th>\n",
       "      <td>3399958</td>\n",
       "      <td>Yes</td>\n",
       "      <td>NaN</td>\n",
       "      <td>NaN</td>\n",
       "      <td>NaN</td>\n",
       "      <td>NaN</td>\n",
       "      <td>NaN</td>\n",
       "      <td>NaN</td>\n",
       "      <td>NaN</td>\n",
       "      <td>NaN</td>\n",
       "      <td>...</td>\n",
       "      <td>0</td>\n",
       "      <td>6</td>\n",
       "      <td>No</td>\n",
       "      <td>0</td>\n",
       "      <td>60</td>\n",
       "      <td>No</td>\n",
       "      <td>1-Highest</td>\n",
       "      <td>Suburban</td>\n",
       "      <td>Other</td>\n",
       "      <td>Yes</td>\n",
       "    </tr>\n",
       "    <tr>\n",
       "      <th>51043</th>\n",
       "      <td>3399974</td>\n",
       "      <td>No</td>\n",
       "      <td>95.17</td>\n",
       "      <td>1745.0</td>\n",
       "      <td>85.0</td>\n",
       "      <td>0.99</td>\n",
       "      <td>45.0</td>\n",
       "      <td>4.7</td>\n",
       "      <td>122.0</td>\n",
       "      <td>15.9</td>\n",
       "      <td>...</td>\n",
       "      <td>0</td>\n",
       "      <td>9</td>\n",
       "      <td>No</td>\n",
       "      <td>1</td>\n",
       "      <td>60</td>\n",
       "      <td>No</td>\n",
       "      <td>3-Good</td>\n",
       "      <td>Other</td>\n",
       "      <td>Other</td>\n",
       "      <td>No</td>\n",
       "    </tr>\n",
       "    <tr>\n",
       "      <th>51044</th>\n",
       "      <td>3399978</td>\n",
       "      <td>Yes</td>\n",
       "      <td>NaN</td>\n",
       "      <td>NaN</td>\n",
       "      <td>NaN</td>\n",
       "      <td>NaN</td>\n",
       "      <td>NaN</td>\n",
       "      <td>NaN</td>\n",
       "      <td>NaN</td>\n",
       "      <td>NaN</td>\n",
       "      <td>...</td>\n",
       "      <td>0</td>\n",
       "      <td>7</td>\n",
       "      <td>No</td>\n",
       "      <td>1</td>\n",
       "      <td>80</td>\n",
       "      <td>No</td>\n",
       "      <td>5-Low</td>\n",
       "      <td>Other</td>\n",
       "      <td>Clerical</td>\n",
       "      <td>No</td>\n",
       "    </tr>\n",
       "    <tr>\n",
       "      <th>51045</th>\n",
       "      <td>3399990</td>\n",
       "      <td>No</td>\n",
       "      <td>NaN</td>\n",
       "      <td>NaN</td>\n",
       "      <td>NaN</td>\n",
       "      <td>NaN</td>\n",
       "      <td>NaN</td>\n",
       "      <td>NaN</td>\n",
       "      <td>NaN</td>\n",
       "      <td>NaN</td>\n",
       "      <td>...</td>\n",
       "      <td>0</td>\n",
       "      <td>9</td>\n",
       "      <td>No</td>\n",
       "      <td>0</td>\n",
       "      <td>30</td>\n",
       "      <td>No</td>\n",
       "      <td>5-Low</td>\n",
       "      <td>Other</td>\n",
       "      <td>Other</td>\n",
       "      <td>No</td>\n",
       "    </tr>\n",
       "    <tr>\n",
       "      <th>51046</th>\n",
       "      <td>3399994</td>\n",
       "      <td>No</td>\n",
       "      <td>NaN</td>\n",
       "      <td>NaN</td>\n",
       "      <td>NaN</td>\n",
       "      <td>NaN</td>\n",
       "      <td>NaN</td>\n",
       "      <td>NaN</td>\n",
       "      <td>NaN</td>\n",
       "      <td>NaN</td>\n",
       "      <td>...</td>\n",
       "      <td>0</td>\n",
       "      <td>0</td>\n",
       "      <td>No</td>\n",
       "      <td>1</td>\n",
       "      <td>60</td>\n",
       "      <td>Yes</td>\n",
       "      <td>5-Low</td>\n",
       "      <td>Other</td>\n",
       "      <td>Other</td>\n",
       "      <td>Unknown</td>\n",
       "    </tr>\n",
       "  </tbody>\n",
       "</table>\n",
       "<p>5 rows × 58 columns</p>\n",
       "</div>"
      ],
      "text/plain": [
       "       CustomerID Churn  MonthlyRevenue  MonthlyMinutes  TotalRecurringCharge  \\\n",
       "51042     3399958   Yes             NaN             NaN                   NaN   \n",
       "51043     3399974    No           95.17          1745.0                  85.0   \n",
       "51044     3399978   Yes             NaN             NaN                   NaN   \n",
       "51045     3399990    No             NaN             NaN                   NaN   \n",
       "51046     3399994    No             NaN             NaN                   NaN   \n",
       "\n",
       "       DirectorAssistedCalls  OverageMinutes  RoamingCalls  PercChangeMinutes  \\\n",
       "51042                    NaN             NaN           NaN                NaN   \n",
       "51043                   0.99            45.0           4.7              122.0   \n",
       "51044                    NaN             NaN           NaN                NaN   \n",
       "51045                    NaN             NaN           NaN                NaN   \n",
       "51046                    NaN             NaN           NaN                NaN   \n",
       "\n",
       "       PercChangeRevenues  ...  ReferralsMadeBySubscriber  IncomeGroup  \\\n",
       "51042                 NaN  ...                          0            6   \n",
       "51043                15.9  ...                          0            9   \n",
       "51044                 NaN  ...                          0            7   \n",
       "51045                 NaN  ...                          0            9   \n",
       "51046                 NaN  ...                          0            0   \n",
       "\n",
       "       OwnsMotorcycle  AdjustmentsToCreditRating  HandsetPrice  \\\n",
       "51042              No                          0            60   \n",
       "51043              No                          1            60   \n",
       "51044              No                          1            80   \n",
       "51045              No                          0            30   \n",
       "51046              No                          1            60   \n",
       "\n",
       "       MadeCallToRetentionTeam  CreditRating  PrizmCode  Occupation  \\\n",
       "51042                       No     1-Highest   Suburban       Other   \n",
       "51043                       No        3-Good      Other       Other   \n",
       "51044                       No         5-Low      Other    Clerical   \n",
       "51045                       No         5-Low      Other       Other   \n",
       "51046                      Yes         5-Low      Other       Other   \n",
       "\n",
       "       MaritalStatus  \n",
       "51042            Yes  \n",
       "51043             No  \n",
       "51044             No  \n",
       "51045             No  \n",
       "51046        Unknown  \n",
       "\n",
       "[5 rows x 58 columns]"
      ]
     },
     "execution_count": 6,
     "metadata": {},
     "output_type": "execute_result"
    }
   ],
   "source": [
    "# Last 5 rows of the dataset\n",
    "cust_df.tail()"
   ]
  },
  {
   "cell_type": "code",
   "execution_count": 12,
   "metadata": {},
   "outputs": [
    {
     "name": "stdout",
     "output_type": "stream",
     "text": [
      "<class 'pandas.core.frame.DataFrame'>\n",
      "RangeIndex: 51047 entries, 0 to 51046\n",
      "Data columns (total 58 columns):\n",
      " #   Column                     Non-Null Count  Dtype  \n",
      "---  ------                     --------------  -----  \n",
      " 0   CustomerID                 51047 non-null  int64  \n",
      " 1   Churn                      51047 non-null  object \n",
      " 2   MonthlyRevenue             50891 non-null  float64\n",
      " 3   MonthlyMinutes             50891 non-null  float64\n",
      " 4   TotalRecurringCharge       50891 non-null  float64\n",
      " 5   DirectorAssistedCalls      50891 non-null  float64\n",
      " 6   OverageMinutes             50891 non-null  float64\n",
      " 7   RoamingCalls               50891 non-null  float64\n",
      " 8   PercChangeMinutes          50680 non-null  float64\n",
      " 9   PercChangeRevenues         50680 non-null  float64\n",
      " 10  DroppedCalls               51047 non-null  float64\n",
      " 11  BlockedCalls               51047 non-null  float64\n",
      " 12  UnansweredCalls            51047 non-null  float64\n",
      " 13  CustomerCareCalls          51047 non-null  float64\n",
      " 14  ThreewayCalls              51047 non-null  float64\n",
      " 15  ReceivedCalls              51047 non-null  float64\n",
      " 16  OutboundCalls              51047 non-null  float64\n",
      " 17  InboundCalls               51047 non-null  float64\n",
      " 18  PeakCallsInOut             51047 non-null  float64\n",
      " 19  OffPeakCallsInOut          51047 non-null  float64\n",
      " 20  DroppedBlockedCalls        51047 non-null  float64\n",
      " 21  CallForwardingCalls        51047 non-null  float64\n",
      " 22  CallWaitingCalls           51047 non-null  float64\n",
      " 23  MonthsInService            51047 non-null  int64  \n",
      " 24  UniqueSubs                 51047 non-null  int64  \n",
      " 25  ActiveSubs                 51047 non-null  int64  \n",
      " 26  ServiceArea                51023 non-null  object \n",
      " 27  Handsets                   51046 non-null  float64\n",
      " 28  HandsetModels              51046 non-null  float64\n",
      " 29  CurrentEquipmentDays       51046 non-null  float64\n",
      " 30  AgeHH1                     50138 non-null  float64\n",
      " 31  AgeHH2                     50138 non-null  float64\n",
      " 32  ChildrenInHH               51047 non-null  object \n",
      " 33  HandsetRefurbished         51047 non-null  object \n",
      " 34  HandsetWebCapable          51047 non-null  object \n",
      " 35  TruckOwner                 51047 non-null  object \n",
      " 36  RVOwner                    51047 non-null  object \n",
      " 37  Homeownership              51047 non-null  object \n",
      " 38  BuysViaMailOrder           51047 non-null  object \n",
      " 39  RespondsToMailOffers       51047 non-null  object \n",
      " 40  OptOutMailings             51047 non-null  object \n",
      " 41  NonUSTravel                51047 non-null  object \n",
      " 42  OwnsComputer               51047 non-null  object \n",
      " 43  HasCreditCard              51047 non-null  object \n",
      " 44  RetentionCalls             51047 non-null  int64  \n",
      " 45  RetentionOffersAccepted    51047 non-null  int64  \n",
      " 46  NewCellphoneUser           51047 non-null  object \n",
      " 47  NotNewCellphoneUser        51047 non-null  object \n",
      " 48  ReferralsMadeBySubscriber  51047 non-null  int64  \n",
      " 49  IncomeGroup                51047 non-null  int64  \n",
      " 50  OwnsMotorcycle             51047 non-null  object \n",
      " 51  AdjustmentsToCreditRating  51047 non-null  int64  \n",
      " 52  HandsetPrice               51047 non-null  object \n",
      " 53  MadeCallToRetentionTeam    51047 non-null  object \n",
      " 54  CreditRating               51047 non-null  object \n",
      " 55  PrizmCode                  51047 non-null  object \n",
      " 56  Occupation                 51047 non-null  object \n",
      " 57  MaritalStatus              51047 non-null  object \n",
      "dtypes: float64(26), int64(9), object(23)\n",
      "memory usage: 22.6+ MB\n"
     ]
    }
   ],
   "source": [
    "# Displaying details about each column \n",
    "cust_df.info()"
   ]
  },
  {
   "cell_type": "markdown",
   "metadata": {},
   "source": [
    "We can infer that many of the columns hold numeric values such as float or integers"
   ]
  },
  {
   "cell_type": "code",
   "execution_count": 8,
   "metadata": {},
   "outputs": [
    {
     "data": {
      "text/plain": [
       "No     36336\n",
       "Yes    14711\n",
       "Name: Churn, dtype: int64"
      ]
     },
     "execution_count": 8,
     "metadata": {},
     "output_type": "execute_result"
    }
   ],
   "source": [
    "cust_df['Churn'].value_counts()"
   ]
  },
  {
   "cell_type": "markdown",
   "metadata": {},
   "source": [
    "In the dataset we have 36,336 customers who did not churn and 14,711 who did churn"
   ]
  },
  {
   "cell_type": "code",
   "execution_count": 15,
   "metadata": {},
   "outputs": [
    {
     "data": {
      "text/plain": [
       "No     71.18146\n",
       "Yes    28.81854\n",
       "Name: Churn, dtype: float64"
      ]
     },
     "execution_count": 15,
     "metadata": {},
     "output_type": "execute_result"
    }
   ],
   "source": [
    "# The percentage of customers who churn\n",
    "100*cust_df['Churn'].value_counts()/cust_df.shape[0]\n",
    "\n",
    "\n",
    "# Inference: it is highly imbalanced"
   ]
  },
  {
   "cell_type": "code",
   "execution_count": 14,
   "metadata": {},
   "outputs": [
    {
     "data": {
      "text/plain": [
       "CustomerID                     0\n",
       "Churn                          0\n",
       "MonthlyRevenue               156\n",
       "MonthlyMinutes               156\n",
       "TotalRecurringCharge         156\n",
       "DirectorAssistedCalls        156\n",
       "OverageMinutes               156\n",
       "RoamingCalls                 156\n",
       "PercChangeMinutes            367\n",
       "PercChangeRevenues           367\n",
       "DroppedCalls                   0\n",
       "BlockedCalls                   0\n",
       "UnansweredCalls                0\n",
       "CustomerCareCalls              0\n",
       "ThreewayCalls                  0\n",
       "ReceivedCalls                  0\n",
       "OutboundCalls                  0\n",
       "InboundCalls                   0\n",
       "PeakCallsInOut                 0\n",
       "OffPeakCallsInOut              0\n",
       "DroppedBlockedCalls            0\n",
       "CallForwardingCalls            0\n",
       "CallWaitingCalls               0\n",
       "MonthsInService                0\n",
       "UniqueSubs                     0\n",
       "ActiveSubs                     0\n",
       "ServiceArea                   24\n",
       "Handsets                       1\n",
       "HandsetModels                  1\n",
       "CurrentEquipmentDays           1\n",
       "AgeHH1                       909\n",
       "AgeHH2                       909\n",
       "ChildrenInHH                   0\n",
       "HandsetRefurbished             0\n",
       "HandsetWebCapable              0\n",
       "TruckOwner                     0\n",
       "RVOwner                        0\n",
       "Homeownership                  0\n",
       "BuysViaMailOrder               0\n",
       "RespondsToMailOffers           0\n",
       "OptOutMailings                 0\n",
       "NonUSTravel                    0\n",
       "OwnsComputer                   0\n",
       "HasCreditCard                  0\n",
       "RetentionCalls                 0\n",
       "RetentionOffersAccepted        0\n",
       "NewCellphoneUser               0\n",
       "NotNewCellphoneUser            0\n",
       "ReferralsMadeBySubscriber      0\n",
       "IncomeGroup                    0\n",
       "OwnsMotorcycle                 0\n",
       "AdjustmentsToCreditRating      0\n",
       "HandsetPrice                   0\n",
       "MadeCallToRetentionTeam        0\n",
       "CreditRating                   0\n",
       "PrizmCode                      0\n",
       "Occupation                     0\n",
       "MaritalStatus                  0\n",
       "dtype: int64"
      ]
     },
     "execution_count": 14,
     "metadata": {},
     "output_type": "execute_result"
    }
   ],
   "source": [
    "# Counting the number of NA values in each column\n",
    "cust_df.isna().sum()"
   ]
  },
  {
   "cell_type": "markdown",
   "metadata": {},
   "source": [
    "Most columns do not have any NA values"
   ]
  },
  {
   "cell_type": "markdown",
   "metadata": {
    "id": "rsOVIvHSlFIO"
   },
   "source": [
    "## Q1. Detect and resolve problems in the data (Missing value, Outliers, Unexpected value, etc.)"
   ]
  },
  {
   "cell_type": "markdown",
   "metadata": {
    "id": "qoX4uCUIlFIP"
   },
   "source": [
    "### Q1.1 How many customers had zero monthly revenue?"
   ]
  },
  {
   "cell_type": "code",
   "execution_count": 16,
   "metadata": {
    "id": "qSmjZ8QQlFIP"
   },
   "outputs": [
    {
     "data": {
      "text/plain": [
       "6"
      ]
     },
     "execution_count": 16,
     "metadata": {},
     "output_type": "execute_result"
    }
   ],
   "source": [
    "#How many customers had zero monthly revenue?\n",
    "#Exclude the customers with zero monthly revenue from cust_df and from any subsequent analysis\n",
    "cust_df[cust_df.MonthlyRevenue==0].shape[0]\n",
    "\n",
    "cust_df = cust_df[cust_df.MonthlyRevenue > 0.0]\n"
   ]
  },
  {
   "cell_type": "code",
   "execution_count": 17,
   "metadata": {},
   "outputs": [],
   "source": [
    "# We exclude the customers with zero monthly minutes from cust_df\n",
    "\n",
    "cust_df = cust_df[cust_df[\"MonthlyMinutes\"]>0.0]"
   ]
  },
  {
   "cell_type": "markdown",
   "metadata": {
    "id": "IEil-5AblFIP"
   },
   "source": [
    "### Q1.2 How many columns has missing values percentage > 5%"
   ]
  },
  {
   "cell_type": "code",
   "execution_count": 18,
   "metadata": {
    "id": "9r1UrF0PlFIQ"
   },
   "outputs": [
    {
     "data": {
      "text/plain": [
       "CustomerID                   0.000000\n",
       "Churn                        0.000000\n",
       "MonthlyRevenue               0.000000\n",
       "MonthlyMinutes               0.000000\n",
       "TotalRecurringCharge         0.000000\n",
       "DirectorAssistedCalls        0.000000\n",
       "OverageMinutes               0.000000\n",
       "RoamingCalls                 0.000000\n",
       "PercChangeMinutes            0.344883\n",
       "PercChangeRevenues           0.344883\n",
       "DroppedCalls                 0.000000\n",
       "BlockedCalls                 0.000000\n",
       "UnansweredCalls              0.000000\n",
       "CustomerCareCalls            0.000000\n",
       "ThreewayCalls                0.000000\n",
       "ReceivedCalls                0.000000\n",
       "OutboundCalls                0.000000\n",
       "InboundCalls                 0.000000\n",
       "PeakCallsInOut               0.000000\n",
       "OffPeakCallsInOut            0.000000\n",
       "DroppedBlockedCalls          0.000000\n",
       "CallForwardingCalls          0.000000\n",
       "CallWaitingCalls             0.000000\n",
       "MonthsInService              0.000000\n",
       "UniqueSubs                   0.000000\n",
       "ActiveSubs                   0.000000\n",
       "ServiceArea                  0.047845\n",
       "Handsets                     0.000000\n",
       "HandsetModels                0.000000\n",
       "CurrentEquipmentDays         0.000000\n",
       "AgeHH1                       1.772258\n",
       "AgeHH2                       1.772258\n",
       "ChildrenInHH                 0.000000\n",
       "HandsetRefurbished           0.000000\n",
       "HandsetWebCapable            0.000000\n",
       "TruckOwner                   0.000000\n",
       "RVOwner                      0.000000\n",
       "Homeownership                0.000000\n",
       "BuysViaMailOrder             0.000000\n",
       "RespondsToMailOffers         0.000000\n",
       "OptOutMailings               0.000000\n",
       "NonUSTravel                  0.000000\n",
       "OwnsComputer                 0.000000\n",
       "HasCreditCard                0.000000\n",
       "RetentionCalls               0.000000\n",
       "RetentionOffersAccepted      0.000000\n",
       "NewCellphoneUser             0.000000\n",
       "NotNewCellphoneUser          0.000000\n",
       "ReferralsMadeBySubscriber    0.000000\n",
       "IncomeGroup                  0.000000\n",
       "OwnsMotorcycle               0.000000\n",
       "AdjustmentsToCreditRating    0.000000\n",
       "HandsetPrice                 0.000000\n",
       "MadeCallToRetentionTeam      0.000000\n",
       "CreditRating                 0.000000\n",
       "PrizmCode                    0.000000\n",
       "Occupation                   0.000000\n",
       "MaritalStatus                0.000000\n",
       "dtype: float64"
      ]
     },
     "execution_count": 18,
     "metadata": {},
     "output_type": "execute_result"
    }
   ],
   "source": [
    "#Calculate for each column % of missing value in the data\n",
    "#How many columns has missing values percentage > 5%\n",
    "#What strategy should be used for imputation?\n",
    "\n",
    "100*(cust_df.isnull().sum()/cust_df.shape[0])"
   ]
  },
  {
   "cell_type": "markdown",
   "metadata": {
    "id": "wtaCwTMqlFIQ"
   },
   "source": [
    "<mark>__Result:__\n",
    "    \n",
    "Type your answer here for how would you impute the missing values (if any)\n",
    "    \n",
    "**Answer**: None of the columns have more than 5% of missing values. Since the number of missing values in each column is very low, we can drop the rows with missing values"
   ]
  },
  {
   "cell_type": "code",
   "execution_count": 20,
   "metadata": {},
   "outputs": [
    {
     "data": {
      "text/plain": [
       "49078"
      ]
     },
     "execution_count": 20,
     "metadata": {},
     "output_type": "execute_result"
    }
   ],
   "source": [
    "cust_df.dropna(axis=0,inplace=True)\n",
    "cust_df.shape[0]"
   ]
  },
  {
   "cell_type": "markdown",
   "metadata": {},
   "source": [
    "We now have 49,078 rows"
   ]
  },
  {
   "cell_type": "markdown",
   "metadata": {
    "id": "MMq6xiX_lFIQ"
   },
   "source": [
    "### Q1.3 For columns, \"UniqueSubs\" and \"DirectorAssistedCalls\" remove outliers, if any"
   ]
  },
  {
   "cell_type": "code",
   "execution_count": 21,
   "metadata": {
    "id": "RurTZpXRlFIR",
    "outputId": "79b9bba5-8ccb-47ef-db45-a49f5e4f1168"
   },
   "outputs": [
    {
     "data": {
      "text/plain": [
       "<AxesSubplot:>"
      ]
     },
     "execution_count": 21,
     "metadata": {},
     "output_type": "execute_result"
    },
    {
     "data": {
      "image/png": "[encoded data removed]",
      "text/plain": [
       "<Figure size 432x288 with 1 Axes>"
      ]
     },
     "metadata": {
      "needs_background": "light"
     },
     "output_type": "display_data"
    }
   ],
   "source": [
    "#plot box plot using pandas for columns \"UniqueSubs\" and \"DirectorAssistedCalls\"\n",
    "cols=[\"UniqueSubs\",\"DirectorAssistedCalls\"]\n",
    "cust_df.boxplot(column=cols)"
   ]
  },
  {
   "cell_type": "code",
   "execution_count": 22,
   "metadata": {
    "id": "MXMbtk5TlFIS"
   },
   "outputs": [
    {
     "data": {
      "text/html": [
       "<div>\n",
       "<style scoped>\n",
       "    .dataframe tbody tr th:only-of-type {\n",
       "        vertical-align: middle;\n",
       "    }\n",
       "\n",
       "    .dataframe tbody tr th {\n",
       "        vertical-align: top;\n",
       "    }\n",
       "\n",
       "    .dataframe thead th {\n",
       "        text-align: right;\n",
       "    }\n",
       "</style>\n",
       "<table border=\"1\" class=\"dataframe\">\n",
       "  <thead>\n",
       "    <tr style=\"text-align: right;\">\n",
       "      <th></th>\n",
       "      <th>UniqueSubs</th>\n",
       "      <th>DirectorAssistedCalls</th>\n",
       "    </tr>\n",
       "  </thead>\n",
       "  <tbody>\n",
       "    <tr>\n",
       "      <th>0.95</th>\n",
       "      <td>3.0</td>\n",
       "      <td>4.21</td>\n",
       "    </tr>\n",
       "    <tr>\n",
       "      <th>0.96</th>\n",
       "      <td>3.0</td>\n",
       "      <td>4.70</td>\n",
       "    </tr>\n",
       "    <tr>\n",
       "      <th>0.97</th>\n",
       "      <td>4.0</td>\n",
       "      <td>5.69</td>\n",
       "    </tr>\n",
       "    <tr>\n",
       "      <th>0.98</th>\n",
       "      <td>4.0</td>\n",
       "      <td>6.93</td>\n",
       "    </tr>\n",
       "    <tr>\n",
       "      <th>0.99</th>\n",
       "      <td>5.0</td>\n",
       "      <td>9.65</td>\n",
       "    </tr>\n",
       "    <tr>\n",
       "      <th>1.00</th>\n",
       "      <td>18.0</td>\n",
       "      <td>159.39</td>\n",
       "    </tr>\n",
       "  </tbody>\n",
       "</table>\n",
       "</div>"
      ],
      "text/plain": [
       "      UniqueSubs  DirectorAssistedCalls\n",
       "0.95         3.0                   4.21\n",
       "0.96         3.0                   4.70\n",
       "0.97         4.0                   5.69\n",
       "0.98         4.0                   6.93\n",
       "0.99         5.0                   9.65\n",
       "1.00        18.0                 159.39"
      ]
     },
     "execution_count": 22,
     "metadata": {},
     "output_type": "execute_result"
    },
    {
     "data": {
      "text/plain": [
       "<AxesSubplot:>"
      ]
     },
     "execution_count": 22,
     "metadata": {},
     "output_type": "execute_result"
    },
    {
     "data": {
      "image/png": "[encoded data removed]",
      "text/plain": [
       "<Figure size 432x288 with 1 Axes>"
      ]
     },
     "metadata": {
      "needs_background": "light"
     },
     "output_type": "display_data"
    }
   ],
   "source": [
    "#Remove top 1% outliers from the above mentioned two columns and plot the box plot again\n",
    "#Use \"quantile\" function to identify top 1% outliers\n",
    "\n",
    "q_value = [i/100 for i in range(95, 101, 1)]\n",
    "cust_df[cols].quantile(q_value)\n",
    "\n",
    "cust_df = cust_df[(cust_df.UniqueSubs <= 5) & (cust_df.DirectorAssistedCalls <= 9.6156)]\n",
    "cols=[\"UniqueSubs\",\"DirectorAssistedCalls\"]\n",
    "cust_df.boxplot(column=cols)"
   ]
  },
  {
   "cell_type": "markdown",
   "metadata": {
    "id": "j9nGdg_jlFIS"
   },
   "source": [
    "## Q2. Perform exploratory analysis to analyze customer churn"
   ]
  },
  {
   "cell_type": "markdown",
   "metadata": {
    "id": "kuLvZj8LlFIS"
   },
   "source": [
    "### Q2.1 Does customers with high overage minutes also have high revenue?"
   ]
  },
  {
   "cell_type": "code",
   "execution_count": 23,
   "metadata": {
    "id": "9iwrU-MelFIT",
    "scrolled": true
   },
   "outputs": [
    {
     "data": {
      "text/plain": [
       "<AxesSubplot:xlabel='MonthlyRevenue', ylabel='OverageMinutes'>"
      ]
     },
     "execution_count": 23,
     "metadata": {},
     "output_type": "execute_result"
    },
    {
     "data": {
      "image/png": "[encoded data removed]",
      "text/plain": [
       "<Figure size 432x288 with 1 Axes>"
      ]
     },
     "metadata": {
      "needs_background": "light"
     },
     "output_type": "display_data"
    }
   ],
   "source": [
    "#use scatter plot to find the correlation between monthly revenue and overage minutes\n",
    "sns.scatterplot(x = 'MonthlyRevenue', y = 'OverageMinutes', data = cust_df)"
   ]
  },
  {
   "cell_type": "markdown",
   "metadata": {},
   "source": [
    "We can observe an upward trend which indicates a positive relationship between Monthly revenue and overage minutes. Now we will create this scatterplot for churned and non churned customers separately"
   ]
  },
  {
   "cell_type": "code",
   "execution_count": 24,
   "metadata": {},
   "outputs": [
    {
     "data": {
      "text/plain": [
       "Text(0.5, 1.0, 'Scatterplot for Non Churned customers')"
      ]
     },
     "execution_count": 24,
     "metadata": {},
     "output_type": "execute_result"
    },
    {
     "data": {
      "text/plain": [
       "<AxesSubplot:title={'center':'Scatterplot for Non Churned customers'}, xlabel='MonthlyRevenue', ylabel='OverageMinutes'>"
      ]
     },
     "execution_count": 24,
     "metadata": {},
     "output_type": "execute_result"
    },
    {
     "data": {
      "image/png": "[encoded data removed]",
      "text/plain": [
       "<Figure size 432x288 with 1 Axes>"
      ]
     },
     "metadata": {
      "needs_background": "light"
     },
     "output_type": "display_data"
    }
   ],
   "source": [
    "plt.title(\"Scatterplot for Non Churned customers\")\n",
    "sns.scatterplot(x = 'MonthlyRevenue', y = 'OverageMinutes', data = cust_df[cust_df.Churn==\"No\"])\n",
    "plt.show()"
   ]
  },
  {
   "cell_type": "code",
   "execution_count": 26,
   "metadata": {},
   "outputs": [
    {
     "data": {
      "text/plain": [
       "Text(0.5, 1.0, 'Scatterplot for Churned customers')"
      ]
     },
     "execution_count": 26,
     "metadata": {},
     "output_type": "execute_result"
    },
    {
     "data": {
      "text/plain": [
       "<AxesSubplot:title={'center':'Scatterplot for Churned customers'}, xlabel='MonthlyRevenue', ylabel='OverageMinutes'>"
      ]
     },
     "execution_count": 26,
     "metadata": {},
     "output_type": "execute_result"
    },
    {
     "data": {
      "image/png": "[encoded data removed]",
      "text/plain": [
       "<Figure size 432x288 with 1 Axes>"
      ]
     },
     "metadata": {
      "needs_background": "light"
     },
     "output_type": "display_data"
    }
   ],
   "source": [
    "plt.title(\"Scatterplot for Churned customers\")\n",
    "sns.scatterplot(x = 'MonthlyRevenue', y = 'OverageMinutes', data = cust_df[cust_df.Churn==\"Yes\"])\n",
    "plt.show()"
   ]
  },
  {
   "cell_type": "markdown",
   "metadata": {
    "id": "p0c7mh47lFIT"
   },
   "source": [
    "<mark>__Result:__\n",
    "    \n",
    "We can infer that there is an upward trend and that both values are increasing. Therefore, there is a positive relationship between Monthly Revenue and Overage Minutes. This positive relationship exists even when we consider churned and non churned customers separately"
   ]
  },
  {
   "cell_type": "markdown",
   "metadata": {
    "id": "ypcm12s6lFIT"
   },
   "source": [
    "### Q2.2 Does high number of active subscribers lead to low monthly revenue?"
   ]
  },
  {
   "cell_type": "code",
   "execution_count": 27,
   "metadata": {
    "id": "K_Hbu6DvlFIU"
   },
   "outputs": [
    {
     "data": {
      "text/plain": [
       "<seaborn.axisgrid.FacetGrid at 0x1229890cfa0>"
      ]
     },
     "execution_count": 27,
     "metadata": {},
     "output_type": "execute_result"
    },
    {
     "data": {
      "image/png": "[encoded data removed]",
      "text/plain": [
       "<Figure size 360x360 with 1 Axes>"
      ]
     },
     "metadata": {
      "needs_background": "light"
     },
     "output_type": "display_data"
    }
   ],
   "source": [
    "#use category plot to plot monthly revenue for each active subs category\n",
    "sns.catplot(x=\"ActiveSubs\", y=\"MonthlyRevenue\",data=cust_df) "
   ]
  },
  {
   "cell_type": "markdown",
   "metadata": {
    "id": "mkrnwbZhlFIU"
   },
   "source": [
    "<mark>__Result:__\n",
    "    \n",
    "We can infer that as the number of active subscribers increases, the monthly revenue decreases"
   ]
  },
  {
   "cell_type": "markdown",
   "metadata": {
    "id": "uZYchMbslFIU"
   },
   "source": [
    "### Q2.3 Does credit rating have an impact in churn rate?"
   ]
  },
  {
   "cell_type": "code",
   "execution_count": 28,
   "metadata": {
    "id": "VLQbrOxulFIU"
   },
   "outputs": [
    {
     "data": {
      "text/html": [
       "<div>\n",
       "<style scoped>\n",
       "    .dataframe tbody tr th:only-of-type {\n",
       "        vertical-align: middle;\n",
       "    }\n",
       "\n",
       "    .dataframe tbody tr th {\n",
       "        vertical-align: top;\n",
       "    }\n",
       "\n",
       "    .dataframe thead th {\n",
       "        text-align: right;\n",
       "    }\n",
       "</style>\n",
       "<table border=\"1\" class=\"dataframe\">\n",
       "  <thead>\n",
       "    <tr style=\"text-align: right;\">\n",
       "      <th>CreditRating</th>\n",
       "      <th>1-Highest</th>\n",
       "      <th>2-High</th>\n",
       "      <th>3-Good</th>\n",
       "      <th>4-Medium</th>\n",
       "      <th>5-Low</th>\n",
       "      <th>6-VeryLow</th>\n",
       "      <th>7-Lowest</th>\n",
       "    </tr>\n",
       "    <tr>\n",
       "      <th>Churn</th>\n",
       "      <th></th>\n",
       "      <th></th>\n",
       "      <th></th>\n",
       "      <th></th>\n",
       "      <th></th>\n",
       "      <th></th>\n",
       "      <th></th>\n",
       "    </tr>\n",
       "  </thead>\n",
       "  <tbody>\n",
       "    <tr>\n",
       "      <th>No</th>\n",
       "      <td>0.698608</td>\n",
       "      <td>0.7039</td>\n",
       "      <td>0.69738</td>\n",
       "      <td>0.745876</td>\n",
       "      <td>0.785889</td>\n",
       "      <td>0.739905</td>\n",
       "      <td>0.718026</td>\n",
       "    </tr>\n",
       "    <tr>\n",
       "      <th>Yes</th>\n",
       "      <td>0.301392</td>\n",
       "      <td>0.2961</td>\n",
       "      <td>0.30262</td>\n",
       "      <td>0.254124</td>\n",
       "      <td>0.214111</td>\n",
       "      <td>0.260095</td>\n",
       "      <td>0.281974</td>\n",
       "    </tr>\n",
       "  </tbody>\n",
       "</table>\n",
       "</div>"
      ],
      "text/plain": [
       "CreditRating  1-Highest  2-High   3-Good  4-Medium     5-Low  6-VeryLow  \\\n",
       "Churn                                                                     \n",
       "No             0.698608  0.7039  0.69738  0.745876  0.785889   0.739905   \n",
       "Yes            0.301392  0.2961  0.30262  0.254124  0.214111   0.260095   \n",
       "\n",
       "CreditRating  7-Lowest  \n",
       "Churn                   \n",
       "No            0.718026  \n",
       "Yes           0.281974  "
      ]
     },
     "execution_count": 28,
     "metadata": {},
     "output_type": "execute_result"
    },
    {
     "data": {
      "text/html": [
       "<div>\n",
       "<style scoped>\n",
       "    .dataframe tbody tr th:only-of-type {\n",
       "        vertical-align: middle;\n",
       "    }\n",
       "\n",
       "    .dataframe tbody tr th {\n",
       "        vertical-align: top;\n",
       "    }\n",
       "\n",
       "    .dataframe thead th {\n",
       "        text-align: right;\n",
       "    }\n",
       "</style>\n",
       "<table border=\"1\" class=\"dataframe\">\n",
       "  <thead>\n",
       "    <tr style=\"text-align: right;\">\n",
       "      <th>CreditRating</th>\n",
       "      <th>1-Highest</th>\n",
       "      <th>2-High</th>\n",
       "      <th>3-Good</th>\n",
       "      <th>4-Medium</th>\n",
       "      <th>5-Low</th>\n",
       "      <th>6-VeryLow</th>\n",
       "      <th>7-Lowest</th>\n",
       "    </tr>\n",
       "    <tr>\n",
       "      <th>Churn</th>\n",
       "      <th></th>\n",
       "      <th></th>\n",
       "      <th></th>\n",
       "      <th></th>\n",
       "      <th></th>\n",
       "      <th></th>\n",
       "      <th></th>\n",
       "    </tr>\n",
       "  </thead>\n",
       "  <tbody>\n",
       "    <tr>\n",
       "      <th>No</th>\n",
       "      <td>0.161849</td>\n",
       "      <td>0.371062</td>\n",
       "      <td>0.160179</td>\n",
       "      <td>0.109358</td>\n",
       "      <td>0.138555</td>\n",
       "      <td>0.017938</td>\n",
       "      <td>0.041060</td>\n",
       "    </tr>\n",
       "    <tr>\n",
       "      <th>Yes</th>\n",
       "      <td>0.177734</td>\n",
       "      <td>0.397318</td>\n",
       "      <td>0.176928</td>\n",
       "      <td>0.094840</td>\n",
       "      <td>0.096086</td>\n",
       "      <td>0.016051</td>\n",
       "      <td>0.041044</td>\n",
       "    </tr>\n",
       "  </tbody>\n",
       "</table>\n",
       "</div>"
      ],
      "text/plain": [
       "CreditRating  1-Highest    2-High    3-Good  4-Medium     5-Low  6-VeryLow  \\\n",
       "Churn                                                                        \n",
       "No             0.161849  0.371062  0.160179  0.109358  0.138555   0.017938   \n",
       "Yes            0.177734  0.397318  0.176928  0.094840  0.096086   0.016051   \n",
       "\n",
       "CreditRating  7-Lowest  \n",
       "Churn                   \n",
       "No            0.041060  \n",
       "Yes           0.041044  "
      ]
     },
     "execution_count": 28,
     "metadata": {},
     "output_type": "execute_result"
    }
   ],
   "source": [
    "pd.crosstab(cust_df.Churn, cust_df.CreditRating).apply(lambda r:r/r.sum(), axis = 0)\n",
    "pd.crosstab(cust_df.Churn, cust_df.CreditRating).apply(lambda r:r/r.sum(), axis = 1)"
   ]
  },
  {
   "cell_type": "markdown",
   "metadata": {
    "id": "Tm9Kkol0lFIV"
   },
   "source": [
    "<mark>__Result:__\n",
    "    \n",
    "We can infer that for all credit scores, there are customers who are churning. We can infer that the proportion of churned customers is greater for higher credit scores"
   ]
  },
  {
   "cell_type": "markdown",
   "metadata": {
    "id": "okgnaKbclFIV"
   },
   "source": [
    "### Placeholder for additional exploratory analysis"
   ]
  },
  {
   "cell_type": "code",
   "execution_count": 13,
   "metadata": {},
   "outputs": [
    {
     "data": {
      "text/plain": [
       "Other           37637\n",
       "Professional     8755\n",
       "Crafts           1519\n",
       "Clerical          986\n",
       "Self              879\n",
       "Retired           733\n",
       "Student           381\n",
       "Homemaker         157\n",
       "Name: Occupation, dtype: int64"
      ]
     },
     "execution_count": 13,
     "metadata": {},
     "output_type": "execute_result"
    }
   ],
   "source": [
    "#type your code here for any additional exploratory analysis (if any)\n",
    "\n",
    "# Observing the counts of different occupations among customers\n",
    "cust_df['Occupation'].value_counts()"
   ]
  },
  {
   "cell_type": "markdown",
   "metadata": {},
   "source": [
    "A majority of the customers have a Professional occupation"
   ]
  },
  {
   "cell_type": "code",
   "execution_count": 30,
   "metadata": {},
   "outputs": [
    {
     "data": {
      "text/plain": [
       "Unknown    18087\n",
       "Yes        18010\n",
       "No         12277\n",
       "Name: MaritalStatus, dtype: int64"
      ]
     },
     "execution_count": 30,
     "metadata": {},
     "output_type": "execute_result"
    }
   ],
   "source": [
    "# Analyzing the Marital Status of customers\n",
    "cust_df['MaritalStatus'].value_counts()"
   ]
  },
  {
   "cell_type": "markdown",
   "metadata": {},
   "source": [
    "There is a greater number of married customers than unmarried customers"
   ]
  },
  {
   "cell_type": "code",
   "execution_count": 31,
   "metadata": {},
   "outputs": [
    {
     "data": {
      "text/plain": [
       "<AxesSubplot:xlabel='MonthlyRevenue', ylabel='MonthlyMinutes'>"
      ]
     },
     "execution_count": 31,
     "metadata": {},
     "output_type": "execute_result"
    },
    {
     "data": {
      "image/png": "[encoded data removed]",
      "text/plain": [
       "<Figure size 432x288 with 1 Axes>"
      ]
     },
     "metadata": {
      "needs_background": "light"
     },
     "output_type": "display_data"
    }
   ],
   "source": [
    "# Monthly revenue vs Monthly minutes\n",
    "sns.scatterplot(x = 'MonthlyRevenue', y = 'MonthlyMinutes', data = cust_df)"
   ]
  },
  {
   "cell_type": "markdown",
   "metadata": {},
   "source": [
    "We can infer that there is a positive relationship between monthly revenue and monthly minutes"
   ]
  },
  {
   "cell_type": "code",
   "execution_count": 32,
   "metadata": {},
   "outputs": [
    {
     "data": {
      "text/plain": [
       "<seaborn.axisgrid.FacetGrid at 0x1229fefdf70>"
      ]
     },
     "execution_count": 32,
     "metadata": {},
     "output_type": "execute_result"
    },
    {
     "data": {
      "image/png": "[encoded data removed]",
      "text/plain": [
       "<Figure size 360x360 with 1 Axes>"
      ]
     },
     "metadata": {
      "needs_background": "light"
     },
     "output_type": "display_data"
    }
   ],
   "source": [
    "# Category plot of monthly revenue across different income group categories\n",
    "sns.catplot(x=\"IncomeGroup\", y=\"MonthlyRevenue\",data=cust_df) "
   ]
  },
  {
   "cell_type": "markdown",
   "metadata": {},
   "source": [
    "We can infer that the monthly revenue has a fairly even spread across different income groups"
   ]
  },
  {
   "cell_type": "markdown",
   "metadata": {
    "id": "1v8DwkhPlFIV"
   },
   "source": [
    "## Q3. Create additional features to help predict churn"
   ]
  },
  {
   "cell_type": "code",
   "execution_count": 33,
   "metadata": {
    "id": "Qtk8mg8OlFIW"
   },
   "outputs": [],
   "source": [
    "#wrapper function to create additional features for churn prediction\n",
    "def create_features(cust_df):\n",
    "    \n",
    "    #3.1 Percent of current active subs over total subs\n",
    "    cust_df['perc_active_subs'] = cust_df['ActiveSubs'] / cust_df['UniqueSubs']\n",
    "    \n",
    "    #3.2 Percent of recurrent charge to monthly charge\n",
    "    #type your code here to create a new column in cust_df\n",
    "    cust_df['perc_recurrent_charge']=cust_df['TotalRecurringCharge']/cust_df[\"MonthlyRevenue\"]\n",
    "    \n",
    "    #3.3 Percent of overage minutes over total monthly minutes\n",
    "    #type your code here to create a new column in cust_df\n",
    "    cust_df['perc_overage_minute']=cust_df['OverageMinutes']/cust_df[\"MonthlyMinutes\"]\n",
    "    \n",
    "    #type your code here to creat any other additional features which you think will help improve your model accuracy\n",
    "    \n",
    "    #3.4 Percent of dropped calls over total monthly minutes\n",
    "    \n",
    "    cust_df['perc_dropped_calls']=cust_df['DroppedCalls']/cust_df[\"MonthlyMinutes\"]\n",
    "    \n",
    "    #3.5 Percent of unanswered calls over total monthly minutes\n",
    "    \n",
    "    cust_df['perc_unanswered_calls']=cust_df['UnansweredCalls']/cust_df[\"MonthlyMinutes\"]\n",
    "    \n",
    "    #3.6 Percent of roaming calls over total monthly minutes\n",
    "    \n",
    "    cust_df['perc_roaming_calls']=cust_df['RoamingCalls']/cust_df[\"MonthlyMinutes\"]\n",
    "    \n",
    "    #3.7 Percent of customer care calls over total monthly minutes\n",
    "    \n",
    "    cust_df['perc_customer_care_calls']=cust_df['CustomerCareCalls']/cust_df[\"MonthlyMinutes\"]\n",
    "    \n",
    "    #3.8 Percent of threeway calls over total monthly minutes\n",
    "    \n",
    "    cust_df['perc_threeway_calls']=cust_df['ThreewayCalls']/cust_df[\"MonthlyMinutes\"]\n",
    "    \n",
    "    #3.9 Percent of Received calls over total monthly minutes\n",
    "    \n",
    "    cust_df['perc_received_calls']=cust_df['ReceivedCalls']/cust_df[\"MonthlyMinutes\"]\n",
    "    \n",
    "    #3.10 Percent of inbound calls over total monthly minutes\n",
    "    \n",
    "    cust_df['perc_inbound_calls']=cust_df['InboundCalls']/cust_df[\"MonthlyMinutes\"]\n",
    "\n",
    "    #3.11 Percent of outbound calls over total monthly minutes\n",
    "    \n",
    "    cust_df['perc_outbound_calls']=cust_df['OutboundCalls']/cust_df[\"MonthlyMinutes\"]\n",
    "    \n",
    "    return cust_df  \n"
   ]
  },
  {
   "cell_type": "code",
   "execution_count": 34,
   "metadata": {
    "id": "aVqGUbRIlFIW"
   },
   "outputs": [],
   "source": [
    "#Make a call to the feature engineering wrapper function for churn prediction\n",
    "cust_df=create_features(cust_df)\n"
   ]
  },
  {
   "cell_type": "code",
   "execution_count": 35,
   "metadata": {},
   "outputs": [],
   "source": [
    "# Defining a function to separate the columns depending on whether they hold categorical or continuous values\n",
    "def check_categorical(cust_df):\n",
    "    colnames = cust_df.columns\n",
    "    categorical_col = []\n",
    "    continuous_col = []\n",
    "    for i in colnames:\n",
    "        if cust_df[i].nunique() < 20:\n",
    "            if i != \"Churn\":\n",
    "                categorical_col.append(i)\n",
    "        else:\n",
    "            if i not in [\"CustomerID\", \"ServiceArea\"]:\n",
    "                continuous_col.append(i)\n",
    "                \n",
    "    return (categorical_col, continuous_col)"
   ]
  },
  {
   "cell_type": "code",
   "execution_count": 45,
   "metadata": {},
   "outputs": [],
   "source": [
    "# Defining a function to determine which factors are important in terms of modelling\n",
    "def check_categorical_imp(cust_df, categorical_col):\n",
    "    new_categorical_col = []\n",
    "    for i in categorical_col:\n",
    "        if stats.chi2_contingency(pd.crosstab(cust_df.Churn, cust_df[i]))[1] > 0.05:\n",
    "            pass\n",
    "        else:\n",
    "            new_categorical_col.append(i)\n",
    "    \n",
    "    return new_categorical_col"
   ]
  },
  {
   "cell_type": "code",
   "execution_count": 37,
   "metadata": {},
   "outputs": [],
   "source": [
    "categorical_col, continuous_col = check_categorical(cust_df)"
   ]
  },
  {
   "cell_type": "code",
   "execution_count": 38,
   "metadata": {},
   "outputs": [
    {
     "data": {
      "text/plain": [
       "(48374, 69)"
      ]
     },
     "execution_count": 38,
     "metadata": {},
     "output_type": "execute_result"
    }
   ],
   "source": [
    "cust_df.shape"
   ]
  },
  {
   "cell_type": "markdown",
   "metadata": {},
   "source": [
    "We currently have 48,374 rows and 69 columns"
   ]
  },
  {
   "cell_type": "code",
   "execution_count": 39,
   "metadata": {},
   "outputs": [
    {
     "data": {
      "text/plain": [
       "No     34730\n",
       "Yes    13644\n",
       "Name: Churn, dtype: int64"
      ]
     },
     "execution_count": 39,
     "metadata": {},
     "output_type": "execute_result"
    }
   ],
   "source": [
    "cust_df.Churn.value_counts()"
   ]
  },
  {
   "cell_type": "markdown",
   "metadata": {},
   "source": [
    "The distribution between non churned and churned customers is not balanced"
   ]
  },
  {
   "cell_type": "code",
   "execution_count": 41,
   "metadata": {},
   "outputs": [
    {
     "data": {
      "text/plain": [
       "0    50.0\n",
       "1    50.0\n",
       "Name: Churn, dtype: float64"
      ]
     },
     "execution_count": 41,
     "metadata": {},
     "output_type": "execute_result"
    }
   ],
   "source": [
    "# Oversampling\n",
    "cust_df[\"Churn\"]=cust_df[\"Churn\"].replace([\"Yes\", \"No\"], [1,0])\n",
    "class_count_0, class_count_1 = cust_df['Churn'].value_counts()\n",
    "\n",
    "class_0 = cust_df[cust_df['Churn']==0]\n",
    "class_1 = cust_df[cust_df['Churn']==1]\n",
    "\n",
    "class_1_over = class_1.sample(class_count_0, replace=True)\n",
    "\n",
    "test_over = pd.concat([class_1_over, class_0],axis=0)\n",
    "\n",
    "cust_df = test_over\n",
    "\n",
    "y = cust_df.Churn\n",
    "y.value_counts()/len(y)*100"
   ]
  },
  {
   "cell_type": "code",
   "execution_count": 46,
   "metadata": {},
   "outputs": [],
   "source": [
    "important_categorical_col = check_categorical_imp(cust_df, categorical_col)\n",
    "\n",
    "y = cust_df.Churn\n",
    "customerid = cust_df.MonthlyRevenue\n",
    "\n",
    "cust_df = cust_df[important_categorical_col+continuous_col]"
   ]
  },
  {
   "cell_type": "markdown",
   "metadata": {
    "id": "VE-kdD_YlFIX"
   },
   "source": [
    "## Q4. Build classification model to predict customer churn month in advance"
   ]
  },
  {
   "cell_type": "markdown",
   "metadata": {
    "id": "-EqcNv6rlFIX"
   },
   "source": [
    "### Initial data processing for model building exercise"
   ]
  },
  {
   "cell_type": "code",
   "execution_count": 47,
   "metadata": {
    "id": "pZlh5pYilFIX"
   },
   "outputs": [],
   "source": [
    "#Train - test split to train and test model accuracy\n",
    "from sklearn.model_selection import train_test_split\n",
    "\n",
    "#Define columns to be included in X and y\n",
    "# X = Independent variables\n",
    "# Y = Dependent variable (churn flag)\n",
    "\n",
    "#Feature scaling for all continuous variable\n",
    "from sklearn.preprocessing import StandardScaler\n",
    "sc = StandardScaler()\n",
    "\n",
    "# Scaling continuous variables from the dataframe\n",
    "\n",
    "cust_df[continuous_col] = sc.fit_transform(cust_df[continuous_col])\n",
    "\n",
    "#Create dummy variables for all categorical variables\n",
    "#X = pd.get_dummies(X)\n",
    "cust_df = pd.get_dummies(cust_df,columns = important_categorical_col, drop_first = True)"
   ]
  },
  {
   "cell_type": "code",
   "execution_count": 48,
   "metadata": {},
   "outputs": [],
   "source": [
    "cust_df[\"CustomerID\"] = customerid\n",
    "X=cust_df\n",
    "\n",
    "# Splitting the dataset\n",
    "X_train, X_test, y_train, y_test = train_test_split(X, y, test_size=0.3, random_state=0)"
   ]
  },
  {
   "cell_type": "code",
   "execution_count": 49,
   "metadata": {},
   "outputs": [
    {
     "data": {
      "text/plain": [
       "1    24462\n",
       "0    24160\n",
       "Name: Churn, dtype: int64"
      ]
     },
     "execution_count": 49,
     "metadata": {},
     "output_type": "execute_result"
    }
   ],
   "source": [
    "y_train.value_counts()"
   ]
  },
  {
   "cell_type": "code",
   "execution_count": 50,
   "metadata": {},
   "outputs": [
    {
     "data": {
      "text/plain": [
       "(69460, 150)"
      ]
     },
     "execution_count": 50,
     "metadata": {},
     "output_type": "execute_result"
    }
   ],
   "source": [
    "X.shape"
   ]
  },
  {
   "cell_type": "code",
   "execution_count": 51,
   "metadata": {},
   "outputs": [],
   "source": [
    "train_custid = X_train.CustomerID\n",
    "test_custid = X_test.CustomerID\n",
    "test_monthlyrevenue = X_test.MonthlyRevenue\n",
    "# Dropping Customer ID as it is not important for training\n",
    "X_train.drop([\"CustomerID\"], inplace=True, axis=1)\n",
    "X_test.drop([\"CustomerID\"], inplace=True, axis=1)"
   ]
  },
  {
   "cell_type": "markdown",
   "metadata": {
    "id": "lj89clILlFIY"
   },
   "source": [
    "### Q4.1 Build a simple logistic regression model to predict churn and evaluate model accuracy on test data set\n"
   ]
  },
  {
   "cell_type": "code",
   "execution_count": 55,
   "metadata": {
    "id": "R3j70GX1lFIY"
   },
   "outputs": [],
   "source": [
    "#-------------------------------- Model training -------------------------------#\n",
    "\n",
    "#type your code to build logistic regression model on training data set\n",
    "\n",
    "from sklearn.linear_model import LogisticRegression\n",
    "from sklearn.metrics import accuracy_score, classification_report, confusion_matrix, roc_auc_score, f1_score, plot_confusion_matrix, average_precision_score\n",
    "from copy import deepcopy\n",
    "\n",
    "# Training\n",
    "logistic_classifier = LogisticRegression(random_state=0).fit(X_train, y_train)\n",
    "\n",
    "# Storing the probabilities of the predictions during training\n",
    "logistic_pred_train_output = logistic_classifier.predict_proba(X_train)[:,1]"
   ]
  },
  {
   "cell_type": "code",
   "execution_count": 59,
   "metadata": {
    "id": "KlCdJ472lFIZ"
   },
   "outputs": [
    {
     "data": {
      "text/plain": [
       "Text(0.5, 0, 'Probability cutoff value train')"
      ]
     },
     "execution_count": 59,
     "metadata": {},
     "output_type": "execute_result"
    },
    {
     "data": {
      "text/plain": [
       "<matplotlib.lines.Line2D at 0x122a59b7f70>"
      ]
     },
     "execution_count": 59,
     "metadata": {},
     "output_type": "execute_result"
    },
    {
     "data": {
      "text/plain": [
       "Text(0, 0.5, 'F1 score train')"
      ]
     },
     "execution_count": 59,
     "metadata": {},
     "output_type": "execute_result"
    },
    {
     "data": {
      "text/plain": [
       "[<matplotlib.lines.Line2D at 0x122a59d03a0>]"
      ]
     },
     "execution_count": 59,
     "metadata": {},
     "output_type": "execute_result"
    },
    {
     "data": {
      "image/png": "[encoded data removed]",
      "text/plain": [
       "<Figure size 432x288 with 1 Axes>"
      ]
     },
     "metadata": {
      "needs_background": "light"
     },
     "output_type": "display_data"
    }
   ],
   "source": [
    "#-------------------------------- Model testing ---------------------------------#\n",
    "\n",
    "#type your code here to predict for X_test data set using the fitted model\n",
    "\n",
    "#Storing the probabilities of the predictions during testing\n",
    "logistic_pred_test_output = logistic_classifier.predict_proba(X_test)[:,1]\n",
    "\n",
    "\n",
    "# Calculating the probability cutoff by tring different threshold values and seeing which gives the best F1 score\n",
    "def efficient_cutoff(actual_value, predicted):\n",
    "    probability_cutoff = []\n",
    "    f1_score_value = []\n",
    "    \n",
    "    for i in range(0, 101):\n",
    "        predicted_x = deepcopy(predicted)\n",
    "        predicted_x[predicted_x >= i / 100] = 1\n",
    "        predicted_x[predicted_x < i / 100] = 0\n",
    "        probability_cutoff.append(i/100)\n",
    "        f1_score_value.append(f1_score(actual_value, predicted_x))\n",
    "    \n",
    "    return (probability_cutoff, f1_score_value)\n",
    "\n",
    "\n",
    "\n",
    "\n",
    "probability_cutoff, f1_score_value = efficient_cutoff(y_train, logistic_pred_train_output)\n",
    "\n",
    "plt.xlabel(\"Probability cutoff value train\")\n",
    "plt.axvline(x= 0.4, color = 'g', label='axvline - full height')\n",
    "plt.ylabel('F1 score train')\n",
    "plt.plot(probability_cutoff,f1_score_value)\n",
    "plt.show()\n",
    "\n",
    "\n"
   ]
  },
  {
   "cell_type": "code",
   "execution_count": 60,
   "metadata": {},
   "outputs": [
    {
     "data": {
      "text/plain": [
       "Text(0.5, 0, 'Probability cutoff value test')"
      ]
     },
     "execution_count": 60,
     "metadata": {},
     "output_type": "execute_result"
    },
    {
     "data": {
      "text/plain": [
       "<matplotlib.lines.Line2D at 0x122a59b78b0>"
      ]
     },
     "execution_count": 60,
     "metadata": {},
     "output_type": "execute_result"
    },
    {
     "data": {
      "text/plain": [
       "Text(0, 0.5, 'F1 score test')"
      ]
     },
     "execution_count": 60,
     "metadata": {},
     "output_type": "execute_result"
    },
    {
     "data": {
      "text/plain": [
       "[<matplotlib.lines.Line2D at 0x122a5a1cbb0>]"
      ]
     },
     "execution_count": 60,
     "metadata": {},
     "output_type": "execute_result"
    },
    {
     "data": {
      "image/png": "[encoded data removed]",
      "text/plain": [
       "<Figure size 432x288 with 1 Axes>"
      ]
     },
     "metadata": {
      "needs_background": "light"
     },
     "output_type": "display_data"
    }
   ],
   "source": [
    "probability_cutoff, f1_score_value = efficient_cutoff(y_test, logistic_pred_test_output)\n",
    "\n",
    "plt.xlabel(\"Probability cutoff value test\")\n",
    "plt.axvline(x= 0.4, color = 'g', label='axvline - full height')\n",
    "plt.ylabel('F1 score test')\n",
    "plt.plot(probability_cutoff,f1_score_value)\n",
    "plt.show()"
   ]
  },
  {
   "cell_type": "code",
   "execution_count": 63,
   "metadata": {},
   "outputs": [
    {
     "name": "stdout",
     "output_type": "stream",
     "text": [
      "              precision    recall  f1-score   support\n",
      "\n",
      "           0       0.67      0.23      0.35     10570\n",
      "           1       0.53      0.88      0.66     10268\n",
      "\n",
      "    accuracy                           0.55     20838\n",
      "   macro avg       0.60      0.56      0.50     20838\n",
      "weighted avg       0.60      0.55      0.50     20838\n",
      "\n",
      "Gini: 0.243915348692874\n",
      "The ROC_AUC of logistic classifier for test data: 0.621957674346437\n"
     ]
    }
   ],
   "source": [
    "#Use a probability threshold to classify customers as churners and non churners (Default = 0.5)\n",
    "\n",
    "\n",
    "logistic_pred_test_output[logistic_pred_test_output>=0.4]=1\n",
    "logistic_pred_test_output[logistic_pred_test_output<0.4]=0\n",
    "\n",
    "\n",
    "\n",
    "\n",
    "#Evaluate model accuracy using fitted y value and actual y_test\n",
    "#Evaluatio metrics to be used - GINI, Precision, Recall, confusion matrix\n",
    "\n",
    "print(classification_report(y_test, logistic_pred_test_output))\n",
    "auc = roc_auc_score(y_test, logistic_classifier.predict_proba(X_test)[:,1])\n",
    "print(\"Gini: {}\".format(2*auc-1))\n",
    "print(\"The ROC_AUC of logistic classifier for test data: {}\".format(auc))\n"
   ]
  },
  {
   "cell_type": "code",
   "execution_count": 64,
   "metadata": {},
   "outputs": [
    {
     "data": {
      "text/plain": [
       "array([[2480, 8090],\n",
       "       [1237, 9031]], dtype=int64)"
      ]
     },
     "execution_count": 64,
     "metadata": {},
     "output_type": "execute_result"
    }
   ],
   "source": [
    "confusion_matrix(y_test, logistic_pred_test_output)\n",
    "TN, FP, FN, TP = confusion_matrix(y_test, logistic_pred_test_output).ravel()"
   ]
  },
  {
   "cell_type": "code",
   "execution_count": 65,
   "metadata": {},
   "outputs": [
    {
     "data": {
      "text/plain": [
       "(2480, 8090, 1237, 9031)"
      ]
     },
     "execution_count": 65,
     "metadata": {},
     "output_type": "execute_result"
    }
   ],
   "source": [
    "TN, FP, FN, TP"
   ]
  },
  {
   "cell_type": "markdown",
   "metadata": {},
   "source": [
    "We observe that there is a high number of False positives which may explain why the accuracy is low"
   ]
  },
  {
   "cell_type": "markdown",
   "metadata": {
    "id": "5c_9lNnclFIZ"
   },
   "source": [
    "### Q4.2 Build Random Forest classifier to compare model accuracy over the logistic regression model\n"
   ]
  },
  {
   "cell_type": "code",
   "execution_count": 66,
   "metadata": {
    "id": "-PqkT3eRlFIa"
   },
   "outputs": [
    {
     "data": {
      "text/plain": [
       "RandomForestClassifier(criterion='entropy', max_depth=15, min_samples_split=50,\n",
       "                       n_estimators=350, n_jobs=-1, random_state=40)"
      ]
     },
     "execution_count": 66,
     "metadata": {},
     "output_type": "execute_result"
    }
   ],
   "source": [
    "#-------------------------------- Model training -------------------------------#\n",
    "\n",
    "#type your code to build random forest classifier model on training data set\n",
    "\n",
    "from sklearn.ensemble import RandomForestClassifier\n",
    "clf=RandomForestClassifier(max_depth=15, min_samples_split=50, random_state=40, criterion=\"entropy\",n_estimators=350,n_jobs=-1)\n",
    "clf.fit(X_train,y_train)\n",
    "\n"
   ]
  },
  {
   "cell_type": "code",
   "execution_count": 67,
   "metadata": {
    "id": "yoMJOpkvlFIa"
   },
   "outputs": [
    {
     "data": {
      "text/plain": [
       "<matplotlib.lines.Line2D at 0x122a5ccabb0>"
      ]
     },
     "execution_count": 67,
     "metadata": {},
     "output_type": "execute_result"
    },
    {
     "data": {
      "text/plain": [
       "Text(0.5, 0, 'probability cutoff value train')"
      ]
     },
     "execution_count": 67,
     "metadata": {},
     "output_type": "execute_result"
    },
    {
     "data": {
      "text/plain": [
       "Text(0, 0.5, 'F1 score train')"
      ]
     },
     "execution_count": 67,
     "metadata": {},
     "output_type": "execute_result"
    },
    {
     "data": {
      "text/plain": [
       "[<matplotlib.lines.Line2D at 0x122a5cd61c0>]"
      ]
     },
     "execution_count": 67,
     "metadata": {},
     "output_type": "execute_result"
    },
    {
     "data": {
      "image/png": "[encoded data removed]",
      "text/plain": [
       "<Figure size 432x288 with 1 Axes>"
      ]
     },
     "metadata": {
      "needs_background": "light"
     },
     "output_type": "display_data"
    },
    {
     "data": {
      "text/plain": [
       "<matplotlib.lines.Line2D at 0x122a5d2e700>"
      ]
     },
     "execution_count": 67,
     "metadata": {},
     "output_type": "execute_result"
    },
    {
     "data": {
      "text/plain": [
       "Text(0, 0.5, 'F1 score test')"
      ]
     },
     "execution_count": 67,
     "metadata": {},
     "output_type": "execute_result"
    },
    {
     "data": {
      "text/plain": [
       "[<matplotlib.lines.Line2D at 0x122a5d2ed00>]"
      ]
     },
     "execution_count": 67,
     "metadata": {},
     "output_type": "execute_result"
    },
    {
     "data": {
      "image/png": "[encoded data removed]",
      "text/plain": [
       "<Figure size 432x288 with 1 Axes>"
      ]
     },
     "metadata": {
      "needs_background": "light"
     },
     "output_type": "display_data"
    }
   ],
   "source": [
    "#-------------------------------- Model testing ---------------------------------#\n",
    "\n",
    "#type your code here to predict for X_test data set using the fitted RF model\n",
    "\n",
    "rf_train_output = clf.predict_proba(X_train)[:,1]\n",
    "rf_test_output = clf.predict_proba(X_test)[:,1]\n",
    "\n",
    "probability_cutoff, f1_score_value = efficient_cutoff(y_train, rf_train_output)\n",
    "\n",
    "plt.axvline(x=0.52, color='g', label='axvline - full height')\n",
    "plt.xlabel(\"probability cutoff value train\")\n",
    "plt.ylabel(\"F1 score train\")\n",
    "plt.plot(probability_cutoff,f1_score_value)\n",
    "plt.show()\n",
    "\n",
    "probability_cutoff, f1_score_value = efficient_cutoff(y_test, rf_test_output)\n",
    "plt.axvline(x=0.53, color='g', label='axvline - full height')\n",
    "plt.ylabel(\"F1 score test\")\n",
    "plt.plot(probability_cutoff, f1_score_value)\n",
    "plt.show()\n",
    "\n",
    "\n"
   ]
  },
  {
   "cell_type": "code",
   "execution_count": 68,
   "metadata": {},
   "outputs": [
    {
     "data": {
      "text/plain": [
       "(array([ 158.,  523.,  937., 2068., 3135., 4988., 5291., 2813.,  843.,\n",
       "          82.]),\n",
       " array([0.12706323, 0.19561589, 0.26416855, 0.33272121, 0.40127386,\n",
       "        0.46982652, 0.53837918, 0.60693184, 0.6754845 , 0.74403716,\n",
       "        0.81258981]),\n",
       " <BarContainer object of 10 artists>)"
      ]
     },
     "execution_count": 68,
     "metadata": {},
     "output_type": "execute_result"
    },
    {
     "data": {
      "image/png": "[encoded data removed]",
      "text/plain": [
       "<Figure size 432x288 with 1 Axes>"
      ]
     },
     "metadata": {
      "needs_background": "light"
     },
     "output_type": "display_data"
    }
   ],
   "source": [
    "plt.hist(rf_test_output)"
   ]
  },
  {
   "cell_type": "code",
   "execution_count": 69,
   "metadata": {},
   "outputs": [
    {
     "name": "stdout",
     "output_type": "stream",
     "text": [
      "              precision    recall  f1-score   support\n",
      "\n",
      "           0       0.72      0.75      0.74     10570\n",
      "           1       0.73      0.70      0.71     10268\n",
      "\n",
      "    accuracy                           0.73     20838\n",
      "   macro avg       0.73      0.72      0.72     20838\n",
      "weighted avg       0.73      0.73      0.72     20838\n",
      "\n"
     ]
    }
   ],
   "source": [
    "#Use a probability threshold to classify customers as churners and non churners (Default = 0.5)\n",
    "\n",
    "rf_test_output[rf_test_output<0.53] = 0\n",
    "rf_test_output[rf_test_output>=0.53]=1\n",
    "\n",
    "\n",
    "#Evaluate model accuracy using fitted y value and actual y_test\n",
    "#Evaluatio metrics to be used - GINI, Precision, Recall, confusion matrix\n",
    "\n",
    "\n",
    "print(classification_report(y_test,rf_test_output))\n",
    "test_auc = roc_auc_score(y_test,clf.predict_proba(X_test)[:, 1])\n",
    "\n",
    "\n"
   ]
  },
  {
   "cell_type": "code",
   "execution_count": 70,
   "metadata": {},
   "outputs": [
    {
     "name": "stdout",
     "output_type": "stream",
     "text": [
      "Gini: 0.6096041784987316\n",
      "The ROC_AUC for the test random forest classifier is 0.8048020892493658\n"
     ]
    }
   ],
   "source": [
    "print(\"Gini: {}\".format(2*test_auc-1))\n",
    "print(\"The ROC_AUC for the test random forest classifier is {}\".format(test_auc))\n",
    "\n"
   ]
  },
  {
   "cell_type": "code",
   "execution_count": 71,
   "metadata": {},
   "outputs": [
    {
     "data": {
      "text/plain": [
       "array([[7962, 2608],\n",
       "       [3120, 7148]], dtype=int64)"
      ]
     },
     "execution_count": 71,
     "metadata": {},
     "output_type": "execute_result"
    }
   ],
   "source": [
    "confusion_matrix(y_test, rf_test_output)\n",
    "TN, FP, FN, TP = confusion_matrix(y_test, rf_test_output).ravel()\n"
   ]
  },
  {
   "cell_type": "code",
   "execution_count": 72,
   "metadata": {},
   "outputs": [
    {
     "data": {
      "text/plain": [
       "(7962, 2608, 3120, 7148)"
      ]
     },
     "execution_count": 72,
     "metadata": {},
     "output_type": "execute_result"
    }
   ],
   "source": [
    "TN, FP, FN, TP"
   ]
  },
  {
   "cell_type": "markdown",
   "metadata": {
    "id": "iKAR6bUolFIb"
   },
   "source": [
    "<mark>__Result:__\n",
    "    \n",
    "Type your answer from the model building exercise here, i.e., which model has better accuracy and using what metrics?\n",
    "    \n",
    "**Answer** On analyzing the results of the models we can conclude that random forest performed better as it has a much higher accuracy which is around 0.74. Similarly the precision, recall, confusion matrix and AUC metric values also suggest that the random forest classifier has performed better than the logistic regression model"
   ]
  },
  {
   "cell_type": "markdown",
   "metadata": {
    "id": "AixoKv9GlFIb"
   },
   "source": [
    "### Q4.3 Identify most important features impacting churn"
   ]
  },
  {
   "cell_type": "code",
   "execution_count": 75,
   "metadata": {
    "id": "k4T4iPJilFIc"
   },
   "outputs": [
    {
     "data": {
      "text/plain": [
       "<Figure size 360x720 with 0 Axes>"
      ]
     },
     "execution_count": 75,
     "metadata": {},
     "output_type": "execute_result"
    },
    {
     "data": {
      "text/plain": [
       "Text(0.5, 1.0, 'Top 20 Important features')"
      ]
     },
     "execution_count": 75,
     "metadata": {},
     "output_type": "execute_result"
    },
    {
     "data": {
      "text/plain": [
       "<AxesSubplot:title={'center':'Top 20 Important features'}>"
      ]
     },
     "execution_count": 75,
     "metadata": {},
     "output_type": "execute_result"
    },
    {
     "data": {
      "image/png": "[encoded data removed]",
      "text/plain": [
       "<Figure size 360x720 with 1 Axes>"
      ]
     },
     "metadata": {
      "needs_background": "light"
     },
     "output_type": "display_data"
    }
   ],
   "source": [
    "# Type your code here to plot the top 20 important predictor features impacting churn using the Random Forest model created\n",
    "\n",
    "feature_importances = pd.Series(clf.feature_importances_,index=X_train.columns)\n",
    "plt.figure(figsize=(5,10))\n",
    "plt.title(\"Top 20 Important features\")\n",
    "feature_importances.nlargest(20).sort_values(ascending=True).plot(kind='barh',)\n"
   ]
  },
  {
   "cell_type": "markdown",
   "metadata": {},
   "source": [
    "We observe that Current equipment days has been identified as the most important feature. We also observe that many of the additional features we created such as perc_recurrent_charge, perc_dropped_calls, perc_unanswered_calls etc. are in the top 20 most important features."
   ]
  },
  {
   "cell_type": "code",
   "execution_count": null,
   "metadata": {},
   "outputs": [],
   "source": []
  }
 ],
 "metadata": {
  "colab": {
   "name": "Project 8 Starter Code.ipynb",
   "provenance": []
  },
  "kernelspec": {
   "display_name": "Python 3 (ipykernel)",
   "language": "python",
   "name": "python3"
  },
  "language_info": {
   "codemirror_mode": {
    "name": "ipython",
    "version": 3
   },
   "file_extension": ".py",
   "mimetype": "text/x-python",
   "name": "python",
   "nbconvert_exporter": "python",
   "pygments_lexer": "ipython3",
   "version": "3.9.5"
  }
 },
 "nbformat": 4,
 "nbformat_minor": 1
}
